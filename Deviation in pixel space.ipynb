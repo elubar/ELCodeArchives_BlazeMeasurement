{
 "cells": [
  {
   "cell_type": "code",
   "execution_count": 1,
   "metadata": {},
   "outputs": [],
   "source": [
    "import numpy as np\n",
    "import matplotlib.pyplot as plt\n",
    "import math"
   ]
  },
  {
   "cell_type": "code",
   "execution_count": 4,
   "metadata": {},
   "outputs": [
    {
     "name": "stdout",
     "output_type": "stream",
     "text": [
      "0.11929000071740122 rad\n",
      "6.834813579219652 degrees\n"
     ]
    }
   ],
   "source": [
    "discrepancy = 1 #degrees\n",
    "anglereflection = 2*discrepancy #degrees\n",
    "\n",
    "#At interface, no small angle approx\n",
    "theta_exit = np.arcsin(3.41*np.sin(np.deg2rad(anglereflection)))\n",
    "print(theta_exit,'rad')\n",
    "print(theta_exit*180/np.pi,'degrees')\n",
    "\n",
    "#At interface, with angle approx\n",
    "# theta_exit_small = 3.41*anglereflection\n",
    "# print(theta_exit_small)"
   ]
  },
  {
   "cell_type": "code",
   "execution_count": 5,
   "metadata": {},
   "outputs": [
    {
     "name": "stdout",
     "output_type": "stream",
     "text": [
      "deviation on detector = 15.102114090822994 mm\n"
     ]
    }
   ],
   "source": [
    "camerafocallen = 126.6 #mm\n",
    "\n",
    "#############\n",
    "deviationondetector = camerafocallen*(theta_exit)\n",
    "\n",
    "\n",
    "print('deviation on detector =',deviationondetector, 'mm')\n",
    "deviationondetector_um = deviationondetector*1E3\n",
    "# print(deviationondetector_um, 'um')\n",
    "\n",
    "#############\n",
    "# deviationondetector_noapprox = camerafocallen*np.tan(np.deg2rad(theta_exit)) #I can use tan(theta) ~ theta here apparently \n",
    "\n",
    "# print('deviation on detector =',deviationondetector_noapprox, 'mm (no small angle approx)')\n",
    "# deviationondetector_um = deviationondetector_noapprox*1E3\n",
    "# print(deviationondetector_um, 'um(no small angle approx)')\n",
    "\n",
    "#############"
   ]
  },
  {
   "cell_type": "code",
   "execution_count": 60,
   "metadata": {},
   "outputs": [
    {
     "name": "stdout",
     "output_type": "stream",
     "text": [
      "width of detector= 36.864000000000004 in mm\n",
      "shift in pixels = 14.643444208318588\n"
     ]
    }
   ],
   "source": [
    "noPix = 2048\n",
    "wPix = 18 #um\n",
    "DW = noPix*wPix\n",
    "\n",
    "DW_mm = DW*1E-3\n",
    "print('width of detector=', DW_mm, 'in mm')\n",
    "# print('width of detector=', DW, 'in um')\n",
    "# print('a blaze discrepancy of',discrepancy,'degree introduces a shift of',round(deviationondetector/DW_mm*100,2),'% of the detector' )\n",
    "\n",
    "\n",
    "shiftinPixels = deviationondetector_um/wPix\n",
    "print('shift in pixels =',shiftinPixels)\n"
   ]
  },
  {
   "cell_type": "code",
   "execution_count": 52,
   "metadata": {},
   "outputs": [
    {
     "name": "stdout",
     "output_type": "stream",
     "text": [
      "81.92 pixles per order in H-band\n"
     ]
    }
   ],
   "source": [
    "#H-band covers order 97-122\n",
    "noOrders = 122-97\n",
    "\n",
    "pixperorder = noPix/noOrders\n",
    "print(pixperorder,'pixles per order in H-band')"
   ]
  },
  {
   "cell_type": "code",
   "execution_count": 53,
   "metadata": {},
   "outputs": [
    {
     "name": "stdout",
     "output_type": "stream",
     "text": [
      "a blaze discrepancy of 1 degrees corresponds to a shift of 0.001571071122585145 orders\n"
     ]
    }
   ],
   "source": [
    "print('a blaze discrepancy of',discrepancy,'degrees corresponds to a shift of', shiftinPixels/pixperorder, 'orders')"
   ]
  },
  {
   "cell_type": "code",
   "execution_count": null,
   "metadata": {},
   "outputs": [],
   "source": []
  },
  {
   "cell_type": "code",
   "execution_count": null,
   "metadata": {},
   "outputs": [],
   "source": []
  },
  {
   "cell_type": "code",
   "execution_count": null,
   "metadata": {},
   "outputs": [],
   "source": []
  },
  {
   "cell_type": "code",
   "execution_count": null,
   "metadata": {},
   "outputs": [],
   "source": []
  }
 ],
 "metadata": {
  "kernelspec": {
   "display_name": "Python 3",
   "language": "python",
   "name": "python3"
  },
  "language_info": {
   "codemirror_mode": {
    "name": "ipython",
    "version": 3
   },
   "file_extension": ".py",
   "mimetype": "text/x-python",
   "name": "python",
   "nbconvert_exporter": "python",
   "pygments_lexer": "ipython3",
   "version": "3.7.3"
  }
 },
 "nbformat": 4,
 "nbformat_minor": 4
}
